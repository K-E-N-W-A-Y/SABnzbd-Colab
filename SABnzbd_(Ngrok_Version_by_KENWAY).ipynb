{
  "nbformat": 4,
  "nbformat_minor": 0,
  "metadata": {
    "colab": {
      "name": "SABnzbd (Ngrok Version by KENWAY).ipynb",
      "provenance": [],
      "authorship_tag": "ABX9TyPgu4pWKrqGCOC7W6I6kAqv",
      "include_colab_link": true
    },
    "kernelspec": {
      "name": "python3",
      "display_name": "Python 3"
    }
  },
  "cells": [
    {
      "cell_type": "markdown",
      "metadata": {
        "id": "view-in-github",
        "colab_type": "text"
      },
      "source": [
        "<a href=\"https://colab.research.google.com/github/K-E-N-W-A-Y/SABnzbd-Colab/blob/master/SABnzbd_(Ngrok_Version_by_KENWAY).ipynb\" target=\"_parent\"><img src=\"https://colab.research.google.com/assets/colab-badge.svg\" alt=\"Open In Colab\"/></a>"
      ]
    },
    {
      "cell_type": "markdown",
      "metadata": {
        "id": "5Yn_QmM9V9AG",
        "colab_type": "text"
      },
      "source": [
        "# <img src='https://www.usenet.com/wp-content/uploads/2017/05/Screenshot_2-1.png' height=\"55\" alt=\"Usenet\"/>"
      ]
    },
    {
      "cell_type": "code",
      "metadata": {
        "id": "N84h0FF6V6Fp",
        "colab_type": "code",
        "cellView": "form",
        "colab": {}
      },
      "source": [
        "# ============================= FORM ============================= #\n",
        "#@markdown <h3>⬅️ Click Here to Use SABnzbd (Ngrok Version by KENWAY)</h3>\n",
        "#@markdown <h4>❌ Don't use the mounted Google Drive as a save path; data corruption will most likely occur.</h4>\n",
        "Ngrok_Token = \"\" #@param {type:\"string\"}\n",
        "Upload_Config = False #@param {type:\"boolean\"}\n",
        "# ================================================================ #\n",
        "\n",
        "import os, psutil, uuid, time, urllib.request, json; from IPython.display import clear_output\n",
        "import ipywidgets as widgets\n",
        "from IPython.display import HTML, clear_output\n",
        "from google.colab import output\n",
        "\n",
        "class MakeButton(object):\n",
        "  def __init__(self, title, callback):\n",
        "    self._title = title\n",
        "    self._callback = callback\n",
        "  def _repr_html_(self):\n",
        "    callback_id = 'button-' + str(uuid.uuid4())\n",
        "    output.register_callback(callback_id, self._callback)\n",
        "    template = \"\"\"<button class=\"p-Widget jupyter-widgets jupyter-button widget-button mod-info\" id=\"{callback_id}\">{title}</button>\n",
        "        <script>\n",
        "          document.querySelector(\"#{callback_id}\").onclick = (e) => {{\n",
        "            google.colab.kernel.invokeFunction('{callback_id}', [], {{}})\n",
        "            e.preventDefault();\n",
        "          }};\n",
        "        </script>\"\"\"\n",
        "    html = template.format(title=self._title, callback_id=callback_id)\n",
        "    return html\n",
        "  \n",
        "def MakeLabel(description, button_style):\n",
        "  return widgets.Button(description=description, disabled=True, button_style=button_style)\n",
        "\n",
        "if os.path.isfile(\"/usr/local/bin/ngrok\") == False:\n",
        "  !wget -q -c -nc https://bin.equinox.io/c/4VmDzA7iaHb/ngrok-stable-linux-amd64.zip\n",
        "  !unzip -qq -n ngrok-stable-linux-amd64.zip\n",
        "  !mv ngrok /usr/local/bin/ngrok\n",
        "  !rm -f /content/ngrok-stable-linux-amd64.zip\n",
        "  print(\"ngrok successfully installed.\")\n",
        "  clear_output(wait=True)\n",
        "else:\n",
        "  print(\"ngrok already installed. Skipping... \")\n",
        "  clear_output(wait=True)\n",
        "  !pkill ngrok\n",
        "\n",
        "def RandomGenerator():\n",
        "  return time.strftime(\"%S\") + str(time.time()).split(\".\")[-1]\n",
        "\n",
        "def CheckProcess(process, command):\n",
        "  for pid in psutil.pids():\n",
        "    try:\n",
        "      p = psutil.Process(pid)\n",
        "      if process in p.name():\n",
        "        for arg in p.cmdline():\n",
        "          if command in str(arg):  \n",
        "            return True\n",
        "          else:\n",
        "            pass\n",
        "      else:\n",
        "        pass\n",
        "    except:\n",
        "      continue\n",
        "\n",
        "try:\n",
        "  try:\n",
        "    Random_NumberNZ\n",
        "  except NameError:\n",
        "    Random_NumberNZ = RandomGenerator()\n",
        "    display(MakeLabel('Installing in Progress', 'warning'))\n",
        "  if not os.path.exists(\"/usr/bin/sabnzbdplus\"):\n",
        "    get_ipython().system_raw(\"rm -rf /content/sample_data/ && sudo apt-get install sabnzbdplus\")\n",
        "    get_ipython().system_raw(\"wget https://raw.githubusercontent.com/K-E-N-W-A-Y/SABnzbd-Colab/master/sabnzbdplus -O/etc/default/sabnzbdplus\")\n",
        "    get_ipython().system_raw(\"mkdir /root/.sabnzbd/ && mkdir /content/sabnzbd/ && mkdir /content/sabnzbd/downloads/ && mkdir /content/sabnzbd/downloads/completed && mkdir /content/sabnzbd/downloads/incomplete && mkdir /content/sabnzbd/downloads/scripts && mkdir /content/sabnzbd/downloads/watch\")\n",
        "    if Upload_Config:\n",
        "      display(HTML(\"<h2 style=\\\"font-family:Trebuchet MS;color:#4f8bd6;\\\">Please upload Your Sabnzbd Config.</h2><br>\"))\n",
        "      uploaded = files.upload()\n",
        "      time.sleep(5)\n",
        "      conf = list(uploaded.keys())[0]\n",
        "      get_ipython().system_raw(\"mv $conf /root/.sabnzbd/\")\n",
        "    else:\n",
        "      get_ipython().system_raw(\"wget https://raw.githubusercontent.com/K-E-N-W-A-Y/SABnzbd-Colab/master/sabnzbd.ini -O/root/.sabnzbd/sabnzbd.ini\")\n",
        "  if CheckProcess(\"sabnzb\", \"\") != True:\n",
        "    get_ipython().system_raw(\"sabnzbdplus -d -s 0.0.0.0:8085 -f /root/.sabnzbd/sabnzbd.ini &\")\n",
        "except:\n",
        "  clear_output(wait=True)\n",
        "\n",
        "get_ipython().system_raw('/usr/local/bin/ngrok authtoken $Ngrok_Token && /usr/local/bin/ngrok http 8085 &')\n",
        "time.sleep(10)\n",
        "clear_output(wait=True)\n",
        "with urllib.request.urlopen('http://localhost:4040/api/tunnels') as response:\n",
        "  data = json.loads(response.read().decode())\n",
        "  host = data['tunnels'][0]['public_url'][8:]\n",
        "  print(f'Open this link in new tab http://{host}')"
      ],
      "execution_count": null,
      "outputs": []
    }
  ]
}